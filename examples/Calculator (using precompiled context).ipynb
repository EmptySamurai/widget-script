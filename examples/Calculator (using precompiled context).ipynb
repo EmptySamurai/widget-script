{
 "cells": [
  {
   "cell_type": "code",
   "execution_count": 1,
   "metadata": {},
   "outputs": [],
   "source": [
    "from widgetscript import JsContext, PrecompiledJsContext, pycall\n",
    "from IPython.display import HTML, display\n",
    "from yattag import Doc"
   ]
  },
  {
   "cell_type": "code",
   "execution_count": 2,
   "metadata": {},
   "outputs": [],
   "source": [
    "def get_calculator_context(precompiled_context = None):\n",
    "    ctx = JsContext(precompiled_context = precompiled_context)\n",
    "    \n",
    "    from math import sqrt, log, exp, pi, e, tan, cos, sin, floor, ceil\n",
    "    calculator_globals = {func.__name__: func for func in [sqrt, log, exp, tan, cos, sin, floor, ceil]}\n",
    "    calculator_globals[\"e\"] = e\n",
    "    calculator_globals[\"pi\"] = pi\n",
    "\n",
    "    @ctx.py\n",
    "    def eval_expression(expression):\n",
    "        return eval(expression, calculator_globals)\n",
    "    \n",
    "    @ctx.js\n",
    "    def on_enter(e):\n",
    "        if e.keyCode == 13:\n",
    "            e.preventDefault()\n",
    "            expression = e.target.value\n",
    "            pycall(eval_expression(expression), got_result, got_error)\n",
    "            \n",
    "    @ctx.js\n",
    "    def got_result(result):\n",
    "        document.getElementById(\"expression_result_\"+__context_id).textContent = result\n",
    "        \n",
    "    @ctx.js\n",
    "    def got_error(error):\n",
    "        console.log(error)\n",
    "        document.getElementById(\"expression_result_\"+__context_id).textContent = \"Error\"\n",
    "        \n",
    "    @ctx.js_flat\n",
    "    def js_init():\n",
    "        expression_input = document.getElementById(\"expression_input_\"+__context_id)\n",
    "        expression_input.addEventListener(\"keyup\", on_enter) \n",
    "        \n",
    "    return ctx\n"
   ]
  },
  {
   "cell_type": "code",
   "execution_count": 3,
   "metadata": {},
   "outputs": [],
   "source": [
    "get_calculator_context().compile().save(\"./calculator_context\")\n",
    "precompiled_context = PrecompiledJsContext.load(\"./calculator_context\")"
   ]
  },
  {
   "cell_type": "code",
   "execution_count": 4,
   "metadata": {},
   "outputs": [],
   "source": [
    "class CalculatorWidget:\n",
    "    \n",
    "    def __init__(self):\n",
    "        ctx = get_calculator_context(precompiled_context)\n",
    "\n",
    "        doc, tag, text = Doc().tagtext()\n",
    "\n",
    "        with tag(\"div\"): \n",
    "            doc.stag(\"input\", id=\"expression_input_\"+ctx.context_id, style=\"display: inline-block\")\n",
    "            with tag(\"span\", style=\"margin-left: 7px; margin-right: 5px\"):\n",
    "                text(\"=\")\n",
    "            doc.stag(\"span\", id=\"expression_result_\"+ctx.context_id)\n",
    "            \n",
    "        doc.asis(ctx.html())\n",
    "        \n",
    "        self.html = doc.getvalue()\n",
    "    \n",
    "    def _repr_html_(self):\n",
    "        return self.html  "
   ]
  },
  {
   "cell_type": "code",
   "execution_count": 5,
   "metadata": {},
   "outputs": [
    {
     "data": {
      "text/plain": [
       "<IPython.core.display.Javascript object>"
      ]
     },
     "metadata": {},
     "output_type": "display_data"
    },
    {
     "data": {
      "text/html": [
       "<div><input id=\"expression_input_8d121615_04f5_4046_8fb4_beff7711b542\" style=\"display: inline-block\" /><span style=\"margin-left: 7px; margin-right: 5px\">=</span><span id=\"expression_result_8d121615_04f5_4046_8fb4_beff7711b542\" /></div><div id=\"__js_context_8d121615_04f5_4046_8fb4_beff7711b542_handle\" style=\"display: none;\"></div>\n",
       "<script>window.__js_context_8d121615_04f5_4046_8fb4_beff7711b542 = __js_precompiled_context_generator_ebbd7f60_e5f2_4323_970c_7112a1245862('8d121615_04f5_4046_8fb4_beff7711b542',null,[\"__eval_expression_in_context_8d121615_04f5_4046_8fb4_beff7711b542\"]);</script>"
      ],
      "text/plain": [
       "<__main__.CalculatorWidget at 0x10783cf60>"
      ]
     },
     "execution_count": 5,
     "metadata": {},
     "output_type": "execute_result"
    }
   ],
   "source": [
    "CalculatorWidget()"
   ]
  },
  {
   "cell_type": "code",
   "execution_count": null,
   "metadata": {},
   "outputs": [],
   "source": []
  }
 ],
 "metadata": {
  "kernelspec": {
   "display_name": "Python 3",
   "language": "python",
   "name": "python3"
  },
  "language_info": {
   "codemirror_mode": {
    "name": "ipython",
    "version": 3
   },
   "file_extension": ".py",
   "mimetype": "text/x-python",
   "name": "python",
   "nbconvert_exporter": "python",
   "pygments_lexer": "ipython3",
   "version": "3.6.8"
  }
 },
 "nbformat": 4,
 "nbformat_minor": 2
}
